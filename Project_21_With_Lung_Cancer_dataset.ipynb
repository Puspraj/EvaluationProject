{
 "cells": [
  {
   "cell_type": "code",
   "execution_count": 1,
   "metadata": {},
   "outputs": [],
   "source": [
    "import pandas as pd\n",
    "import numpy as np\n",
    "from numpy import nan\n",
    "import matplotlib.pyplot as plt\n",
    "import seaborn as sns\n",
    "from sklearn.decomposition import PCA\n",
    "from sklearn.model_selection import train_test_split,cross_val_score\n",
    "from sklearn.linear_model import LogisticRegression\n",
    "from sklearn.naive_bayes import MultinomialNB\n",
    "from sklearn.neighbors import KNeighborsClassifier\n",
    "from sklearn.tree import DecisionTreeClassifier\n",
    "from sklearn.svm import SVC\n",
    "from sklearn.ensemble import RandomForestClassifier\n",
    "from sklearn.metrics import accuracy_score,confusion_matrix,classification_report\n",
    "import warnings\n",
    "warnings.filterwarnings('ignore')"
   ]
  },
  {
   "cell_type": "code",
   "execution_count": 2,
   "metadata": {},
   "outputs": [
    {
     "data": {
      "text/html": [
       "<div>\n",
       "<style scoped>\n",
       "    .dataframe tbody tr th:only-of-type {\n",
       "        vertical-align: middle;\n",
       "    }\n",
       "\n",
       "    .dataframe tbody tr th {\n",
       "        vertical-align: top;\n",
       "    }\n",
       "\n",
       "    .dataframe thead th {\n",
       "        text-align: right;\n",
       "    }\n",
       "</style>\n",
       "<table border=\"1\" class=\"dataframe\">\n",
       "  <thead>\n",
       "    <tr style=\"text-align: right;\">\n",
       "      <th></th>\n",
       "      <th>0</th>\n",
       "      <th>1</th>\n",
       "      <th>2</th>\n",
       "      <th>3</th>\n",
       "      <th>4</th>\n",
       "      <th>5</th>\n",
       "      <th>6</th>\n",
       "      <th>7</th>\n",
       "      <th>8</th>\n",
       "      <th>9</th>\n",
       "      <th>...</th>\n",
       "      <th>47</th>\n",
       "      <th>48</th>\n",
       "      <th>49</th>\n",
       "      <th>50</th>\n",
       "      <th>51</th>\n",
       "      <th>52</th>\n",
       "      <th>53</th>\n",
       "      <th>54</th>\n",
       "      <th>55</th>\n",
       "      <th>56</th>\n",
       "    </tr>\n",
       "  </thead>\n",
       "  <tbody>\n",
       "    <tr>\n",
       "      <td>0</td>\n",
       "      <td>1</td>\n",
       "      <td>0</td>\n",
       "      <td>3</td>\n",
       "      <td>3</td>\n",
       "      <td>1</td>\n",
       "      <td>0</td>\n",
       "      <td>3</td>\n",
       "      <td>1</td>\n",
       "      <td>3</td>\n",
       "      <td>1</td>\n",
       "      <td>...</td>\n",
       "      <td>2</td>\n",
       "      <td>2</td>\n",
       "      <td>2</td>\n",
       "      <td>2</td>\n",
       "      <td>2</td>\n",
       "      <td>2</td>\n",
       "      <td>2</td>\n",
       "      <td>1</td>\n",
       "      <td>2</td>\n",
       "      <td>2</td>\n",
       "    </tr>\n",
       "    <tr>\n",
       "      <td>1</td>\n",
       "      <td>1</td>\n",
       "      <td>0</td>\n",
       "      <td>3</td>\n",
       "      <td>3</td>\n",
       "      <td>2</td>\n",
       "      <td>0</td>\n",
       "      <td>3</td>\n",
       "      <td>3</td>\n",
       "      <td>3</td>\n",
       "      <td>1</td>\n",
       "      <td>...</td>\n",
       "      <td>2</td>\n",
       "      <td>2</td>\n",
       "      <td>2</td>\n",
       "      <td>2</td>\n",
       "      <td>2</td>\n",
       "      <td>2</td>\n",
       "      <td>2</td>\n",
       "      <td>2</td>\n",
       "      <td>1</td>\n",
       "      <td>2</td>\n",
       "    </tr>\n",
       "    <tr>\n",
       "      <td>2</td>\n",
       "      <td>1</td>\n",
       "      <td>0</td>\n",
       "      <td>2</td>\n",
       "      <td>3</td>\n",
       "      <td>2</td>\n",
       "      <td>1</td>\n",
       "      <td>3</td>\n",
       "      <td>3</td>\n",
       "      <td>3</td>\n",
       "      <td>1</td>\n",
       "      <td>...</td>\n",
       "      <td>2</td>\n",
       "      <td>2</td>\n",
       "      <td>2</td>\n",
       "      <td>2</td>\n",
       "      <td>2</td>\n",
       "      <td>2</td>\n",
       "      <td>2</td>\n",
       "      <td>2</td>\n",
       "      <td>2</td>\n",
       "      <td>2</td>\n",
       "    </tr>\n",
       "    <tr>\n",
       "      <td>3</td>\n",
       "      <td>1</td>\n",
       "      <td>0</td>\n",
       "      <td>3</td>\n",
       "      <td>2</td>\n",
       "      <td>1</td>\n",
       "      <td>1</td>\n",
       "      <td>3</td>\n",
       "      <td>3</td>\n",
       "      <td>3</td>\n",
       "      <td>2</td>\n",
       "      <td>...</td>\n",
       "      <td>2</td>\n",
       "      <td>2</td>\n",
       "      <td>2</td>\n",
       "      <td>2</td>\n",
       "      <td>2</td>\n",
       "      <td>2</td>\n",
       "      <td>2</td>\n",
       "      <td>1</td>\n",
       "      <td>2</td>\n",
       "      <td>2</td>\n",
       "    </tr>\n",
       "    <tr>\n",
       "      <td>4</td>\n",
       "      <td>1</td>\n",
       "      <td>0</td>\n",
       "      <td>3</td>\n",
       "      <td>3</td>\n",
       "      <td>2</td>\n",
       "      <td>0</td>\n",
       "      <td>3</td>\n",
       "      <td>3</td>\n",
       "      <td>3</td>\n",
       "      <td>1</td>\n",
       "      <td>...</td>\n",
       "      <td>2</td>\n",
       "      <td>2</td>\n",
       "      <td>2</td>\n",
       "      <td>2</td>\n",
       "      <td>2</td>\n",
       "      <td>2</td>\n",
       "      <td>2</td>\n",
       "      <td>2</td>\n",
       "      <td>1</td>\n",
       "      <td>2</td>\n",
       "    </tr>\n",
       "  </tbody>\n",
       "</table>\n",
       "<p>5 rows × 57 columns</p>\n",
       "</div>"
      ],
      "text/plain": [
       "   0   1   2   3  4   5   6   7   8   9   ...  47  48  49  50  51  52  53  54  \\\n",
       "0   1   0   3   3  1   0   3   1   3   1  ...   2   2   2   2   2   2   2   1   \n",
       "1   1   0   3   3  2   0   3   3   3   1  ...   2   2   2   2   2   2   2   2   \n",
       "2   1   0   2   3  2   1   3   3   3   1  ...   2   2   2   2   2   2   2   2   \n",
       "3   1   0   3   2  1   1   3   3   3   2  ...   2   2   2   2   2   2   2   1   \n",
       "4   1   0   3   3  2   0   3   3   3   1  ...   2   2   2   2   2   2   2   2   \n",
       "\n",
       "   55  56  \n",
       "0   2   2  \n",
       "1   1   2  \n",
       "2   2   2  \n",
       "3   2   2  \n",
       "4   1   2  \n",
       "\n",
       "[5 rows x 57 columns]"
      ]
     },
     "execution_count": 2,
     "metadata": {},
     "output_type": "execute_result"
    }
   ],
   "source": [
    "cancer=pd.read_csv('lung-cancer_data.csv',names=range(0,57),header=0)\n",
    "cancer.head()"
   ]
  },
  {
   "cell_type": "code",
   "execution_count": 3,
   "metadata": {},
   "outputs": [
    {
     "data": {
      "text/html": [
       "<div>\n",
       "<style scoped>\n",
       "    .dataframe tbody tr th:only-of-type {\n",
       "        vertical-align: middle;\n",
       "    }\n",
       "\n",
       "    .dataframe tbody tr th {\n",
       "        vertical-align: top;\n",
       "    }\n",
       "\n",
       "    .dataframe thead th {\n",
       "        text-align: right;\n",
       "    }\n",
       "</style>\n",
       "<table border=\"1\" class=\"dataframe\">\n",
       "  <thead>\n",
       "    <tr style=\"text-align: right;\">\n",
       "      <th></th>\n",
       "      <th>0</th>\n",
       "      <th>1</th>\n",
       "      <th>2</th>\n",
       "      <th>3</th>\n",
       "      <th>4</th>\n",
       "      <th>5</th>\n",
       "      <th>6</th>\n",
       "      <th>7</th>\n",
       "      <th>8</th>\n",
       "      <th>9</th>\n",
       "      <th>...</th>\n",
       "      <th>47</th>\n",
       "      <th>48</th>\n",
       "      <th>49</th>\n",
       "      <th>50</th>\n",
       "      <th>51</th>\n",
       "      <th>52</th>\n",
       "      <th>53</th>\n",
       "      <th>54</th>\n",
       "      <th>55</th>\n",
       "      <th>56</th>\n",
       "    </tr>\n",
       "  </thead>\n",
       "  <tbody>\n",
       "    <tr>\n",
       "      <td>26</td>\n",
       "      <td>3</td>\n",
       "      <td>0</td>\n",
       "      <td>2</td>\n",
       "      <td>2</td>\n",
       "      <td>1</td>\n",
       "      <td>0</td>\n",
       "      <td>2</td>\n",
       "      <td>2</td>\n",
       "      <td>2</td>\n",
       "      <td>1</td>\n",
       "      <td>...</td>\n",
       "      <td>3</td>\n",
       "      <td>3</td>\n",
       "      <td>2</td>\n",
       "      <td>2</td>\n",
       "      <td>3</td>\n",
       "      <td>2</td>\n",
       "      <td>2</td>\n",
       "      <td>2</td>\n",
       "      <td>2</td>\n",
       "      <td>1</td>\n",
       "    </tr>\n",
       "    <tr>\n",
       "      <td>27</td>\n",
       "      <td>3</td>\n",
       "      <td>0</td>\n",
       "      <td>3</td>\n",
       "      <td>2</td>\n",
       "      <td>2</td>\n",
       "      <td>0</td>\n",
       "      <td>2</td>\n",
       "      <td>2</td>\n",
       "      <td>2</td>\n",
       "      <td>1</td>\n",
       "      <td>...</td>\n",
       "      <td>2</td>\n",
       "      <td>2</td>\n",
       "      <td>2</td>\n",
       "      <td>3</td>\n",
       "      <td>1</td>\n",
       "      <td>2</td>\n",
       "      <td>2</td>\n",
       "      <td>2</td>\n",
       "      <td>2</td>\n",
       "      <td>2</td>\n",
       "    </tr>\n",
       "    <tr>\n",
       "      <td>28</td>\n",
       "      <td>3</td>\n",
       "      <td>0</td>\n",
       "      <td>2</td>\n",
       "      <td>1</td>\n",
       "      <td>1</td>\n",
       "      <td>0</td>\n",
       "      <td>2</td>\n",
       "      <td>2</td>\n",
       "      <td>1</td>\n",
       "      <td>1</td>\n",
       "      <td>...</td>\n",
       "      <td>2</td>\n",
       "      <td>2</td>\n",
       "      <td>3</td>\n",
       "      <td>2</td>\n",
       "      <td>2</td>\n",
       "      <td>2</td>\n",
       "      <td>2</td>\n",
       "      <td>2</td>\n",
       "      <td>2</td>\n",
       "      <td>1</td>\n",
       "    </tr>\n",
       "    <tr>\n",
       "      <td>29</td>\n",
       "      <td>3</td>\n",
       "      <td>0</td>\n",
       "      <td>2</td>\n",
       "      <td>3</td>\n",
       "      <td>2</td>\n",
       "      <td>1</td>\n",
       "      <td>2</td>\n",
       "      <td>2</td>\n",
       "      <td>3</td>\n",
       "      <td>1</td>\n",
       "      <td>...</td>\n",
       "      <td>2</td>\n",
       "      <td>2</td>\n",
       "      <td>2</td>\n",
       "      <td>2</td>\n",
       "      <td>2</td>\n",
       "      <td>2</td>\n",
       "      <td>2</td>\n",
       "      <td>1</td>\n",
       "      <td>2</td>\n",
       "      <td>2</td>\n",
       "    </tr>\n",
       "    <tr>\n",
       "      <td>30</td>\n",
       "      <td>3</td>\n",
       "      <td>0</td>\n",
       "      <td>2</td>\n",
       "      <td>3</td>\n",
       "      <td>1</td>\n",
       "      <td>0</td>\n",
       "      <td>2</td>\n",
       "      <td>3</td>\n",
       "      <td>3</td>\n",
       "      <td>1</td>\n",
       "      <td>...</td>\n",
       "      <td>2</td>\n",
       "      <td>2</td>\n",
       "      <td>2</td>\n",
       "      <td>2</td>\n",
       "      <td>2</td>\n",
       "      <td>2</td>\n",
       "      <td>2</td>\n",
       "      <td>2</td>\n",
       "      <td>2</td>\n",
       "      <td>2</td>\n",
       "    </tr>\n",
       "  </tbody>\n",
       "</table>\n",
       "<p>5 rows × 57 columns</p>\n",
       "</div>"
      ],
      "text/plain": [
       "    0   1   2   3  4   5   6   7   8   9   ...  47  48  49  50  51  52  53  \\\n",
       "26   3   0   2   2  1   0   2   2   2   1  ...   3   3   2   2   3   2   2   \n",
       "27   3   0   3   2  2   0   2   2   2   1  ...   2   2   2   3   1   2   2   \n",
       "28   3   0   2   1  1   0   2   2   1   1  ...   2   2   3   2   2   2   2   \n",
       "29   3   0   2   3  2   1   2   2   3   1  ...   2   2   2   2   2   2   2   \n",
       "30   3   0   2   3  1   0   2   3   3   1  ...   2   2   2   2   2   2   2   \n",
       "\n",
       "    54  55  56  \n",
       "26   2   2   1  \n",
       "27   2   2   2  \n",
       "28   2   2   1  \n",
       "29   1   2   2  \n",
       "30   2   2   2  \n",
       "\n",
       "[5 rows x 57 columns]"
      ]
     },
     "execution_count": 3,
     "metadata": {},
     "output_type": "execute_result"
    }
   ],
   "source": [
    "df=pd.DataFrame(data=cancer)\n",
    "df.tail()"
   ]
  },
  {
   "cell_type": "code",
   "execution_count": 4,
   "metadata": {},
   "outputs": [
    {
     "data": {
      "text/plain": [
       "Int64Index([ 0,  1,  2,  3,  4,  5,  6,  7,  8,  9, 10, 11, 12, 13, 14, 15, 16,\n",
       "            17, 18, 19, 20, 21, 22, 23, 24, 25, 26, 27, 28, 29, 30, 31, 32, 33,\n",
       "            34, 35, 36, 37, 38, 39, 40, 41, 42, 43, 44, 45, 46, 47, 48, 49, 50,\n",
       "            51, 52, 53, 54, 55, 56],\n",
       "           dtype='int64')"
      ]
     },
     "execution_count": 4,
     "metadata": {},
     "output_type": "execute_result"
    }
   ],
   "source": [
    "df.columns"
   ]
  },
  {
   "cell_type": "code",
   "execution_count": 5,
   "metadata": {},
   "outputs": [
    {
     "data": {
      "text/plain": [
       "(31, 57)"
      ]
     },
     "execution_count": 5,
     "metadata": {},
     "output_type": "execute_result"
    }
   ],
   "source": [
    "df.shape"
   ]
  },
  {
   "cell_type": "code",
   "execution_count": 6,
   "metadata": {},
   "outputs": [
    {
     "data": {
      "text/plain": [
       "0      int64\n",
       "1      int64\n",
       "2      int64\n",
       "3      int64\n",
       "4     object\n",
       "5      int64\n",
       "6      int64\n",
       "7      int64\n",
       "8      int64\n",
       "9      int64\n",
       "10     int64\n",
       "11     int64\n",
       "12     int64\n",
       "13     int64\n",
       "14     int64\n",
       "15     int64\n",
       "16     int64\n",
       "17     int64\n",
       "18     int64\n",
       "19     int64\n",
       "20     int64\n",
       "21     int64\n",
       "22     int64\n",
       "23     int64\n",
       "24     int64\n",
       "25     int64\n",
       "26     int64\n",
       "27     int64\n",
       "28     int64\n",
       "29     int64\n",
       "30     int64\n",
       "31     int64\n",
       "32     int64\n",
       "33     int64\n",
       "34     int64\n",
       "35     int64\n",
       "36     int64\n",
       "37     int64\n",
       "38    object\n",
       "39     int64\n",
       "40     int64\n",
       "41     int64\n",
       "42     int64\n",
       "43     int64\n",
       "44     int64\n",
       "45     int64\n",
       "46     int64\n",
       "47     int64\n",
       "48     int64\n",
       "49     int64\n",
       "50     int64\n",
       "51     int64\n",
       "52     int64\n",
       "53     int64\n",
       "54     int64\n",
       "55     int64\n",
       "56     int64\n",
       "dtype: object"
      ]
     },
     "execution_count": 6,
     "metadata": {},
     "output_type": "execute_result"
    }
   ],
   "source": [
    "df.dtypes"
   ]
  },
  {
   "cell_type": "code",
   "execution_count": 7,
   "metadata": {},
   "outputs": [
    {
     "name": "stdout",
     "output_type": "stream",
     "text": [
      "<class 'pandas.core.frame.DataFrame'>\n",
      "RangeIndex: 31 entries, 0 to 30\n",
      "Data columns (total 57 columns):\n",
      "0     31 non-null int64\n",
      "1     31 non-null int64\n",
      "2     31 non-null int64\n",
      "3     31 non-null int64\n",
      "4     31 non-null object\n",
      "5     31 non-null int64\n",
      "6     31 non-null int64\n",
      "7     31 non-null int64\n",
      "8     31 non-null int64\n",
      "9     31 non-null int64\n",
      "10    31 non-null int64\n",
      "11    31 non-null int64\n",
      "12    31 non-null int64\n",
      "13    31 non-null int64\n",
      "14    31 non-null int64\n",
      "15    31 non-null int64\n",
      "16    31 non-null int64\n",
      "17    31 non-null int64\n",
      "18    31 non-null int64\n",
      "19    31 non-null int64\n",
      "20    31 non-null int64\n",
      "21    31 non-null int64\n",
      "22    31 non-null int64\n",
      "23    31 non-null int64\n",
      "24    31 non-null int64\n",
      "25    31 non-null int64\n",
      "26    31 non-null int64\n",
      "27    31 non-null int64\n",
      "28    31 non-null int64\n",
      "29    31 non-null int64\n",
      "30    31 non-null int64\n",
      "31    31 non-null int64\n",
      "32    31 non-null int64\n",
      "33    31 non-null int64\n",
      "34    31 non-null int64\n",
      "35    31 non-null int64\n",
      "36    31 non-null int64\n",
      "37    31 non-null int64\n",
      "38    31 non-null object\n",
      "39    31 non-null int64\n",
      "40    31 non-null int64\n",
      "41    31 non-null int64\n",
      "42    31 non-null int64\n",
      "43    31 non-null int64\n",
      "44    31 non-null int64\n",
      "45    31 non-null int64\n",
      "46    31 non-null int64\n",
      "47    31 non-null int64\n",
      "48    31 non-null int64\n",
      "49    31 non-null int64\n",
      "50    31 non-null int64\n",
      "51    31 non-null int64\n",
      "52    31 non-null int64\n",
      "53    31 non-null int64\n",
      "54    31 non-null int64\n",
      "55    31 non-null int64\n",
      "56    31 non-null int64\n",
      "dtypes: int64(55), object(2)\n",
      "memory usage: 13.9+ KB\n"
     ]
    }
   ],
   "source": [
    "df.info()"
   ]
  },
  {
   "cell_type": "code",
   "execution_count": 8,
   "metadata": {},
   "outputs": [
    {
     "data": {
      "text/plain": [
       "0     0\n",
       "1     0\n",
       "2     0\n",
       "3     0\n",
       "4     0\n",
       "5     0\n",
       "6     0\n",
       "7     0\n",
       "8     0\n",
       "9     0\n",
       "10    0\n",
       "11    0\n",
       "12    0\n",
       "13    0\n",
       "14    0\n",
       "15    0\n",
       "16    0\n",
       "17    0\n",
       "18    0\n",
       "19    0\n",
       "20    0\n",
       "21    0\n",
       "22    0\n",
       "23    0\n",
       "24    0\n",
       "25    0\n",
       "26    0\n",
       "27    0\n",
       "28    0\n",
       "29    0\n",
       "30    0\n",
       "31    0\n",
       "32    0\n",
       "33    0\n",
       "34    0\n",
       "35    0\n",
       "36    0\n",
       "37    0\n",
       "38    0\n",
       "39    0\n",
       "40    0\n",
       "41    0\n",
       "42    0\n",
       "43    0\n",
       "44    0\n",
       "45    0\n",
       "46    0\n",
       "47    0\n",
       "48    0\n",
       "49    0\n",
       "50    0\n",
       "51    0\n",
       "52    0\n",
       "53    0\n",
       "54    0\n",
       "55    0\n",
       "56    0\n",
       "dtype: int64"
      ]
     },
     "execution_count": 8,
     "metadata": {},
     "output_type": "execute_result"
    }
   ],
   "source": [
    "df.isnull().sum()"
   ]
  },
  {
   "cell_type": "code",
   "execution_count": 9,
   "metadata": {},
   "outputs": [],
   "source": [
    "df[[4,38]]=df[[4,38]].replace('?',nan)"
   ]
  },
  {
   "cell_type": "code",
   "execution_count": 10,
   "metadata": {},
   "outputs": [
    {
     "data": {
      "text/plain": [
       "0     0\n",
       "1     0\n",
       "2     0\n",
       "3     0\n",
       "4     3\n",
       "5     0\n",
       "6     0\n",
       "7     0\n",
       "8     0\n",
       "9     0\n",
       "10    0\n",
       "11    0\n",
       "12    0\n",
       "13    0\n",
       "14    0\n",
       "15    0\n",
       "16    0\n",
       "17    0\n",
       "18    0\n",
       "19    0\n",
       "20    0\n",
       "21    0\n",
       "22    0\n",
       "23    0\n",
       "24    0\n",
       "25    0\n",
       "26    0\n",
       "27    0\n",
       "28    0\n",
       "29    0\n",
       "30    0\n",
       "31    0\n",
       "32    0\n",
       "33    0\n",
       "34    0\n",
       "35    0\n",
       "36    0\n",
       "37    0\n",
       "38    1\n",
       "39    0\n",
       "40    0\n",
       "41    0\n",
       "42    0\n",
       "43    0\n",
       "44    0\n",
       "45    0\n",
       "46    0\n",
       "47    0\n",
       "48    0\n",
       "49    0\n",
       "50    0\n",
       "51    0\n",
       "52    0\n",
       "53    0\n",
       "54    0\n",
       "55    0\n",
       "56    0\n",
       "dtype: int64"
      ]
     },
     "execution_count": 10,
     "metadata": {},
     "output_type": "execute_result"
    }
   ],
   "source": [
    "df.isnull().sum()"
   ]
  },
  {
   "cell_type": "code",
   "execution_count": 11,
   "metadata": {},
   "outputs": [
    {
     "data": {
      "text/plain": [
       "<matplotlib.axes._subplots.AxesSubplot at 0x2f8d55d0a48>"
      ]
     },
     "execution_count": 11,
     "metadata": {},
     "output_type": "execute_result"
    },
    {
     "data": {
      "image/png": "[encoded data removed]",
      "text/plain": [
       "<Figure size 432x288 with 2 Axes>"
      ]
     },
     "metadata": {
      "needs_background": "light"
     },
     "output_type": "display_data"
    }
   ],
   "source": [
    "sns.heatmap(df.isnull())"
   ]
  },
  {
   "cell_type": "code",
   "execution_count": 12,
   "metadata": {},
   "outputs": [],
   "source": [
    "df=df.dropna(axis=0,how='any')"
   ]
  },
  {
   "cell_type": "code",
   "execution_count": 13,
   "metadata": {},
   "outputs": [
    {
     "data": {
      "text/plain": [
       "0     0\n",
       "1     0\n",
       "2     0\n",
       "3     0\n",
       "4     0\n",
       "5     0\n",
       "6     0\n",
       "7     0\n",
       "8     0\n",
       "9     0\n",
       "10    0\n",
       "11    0\n",
       "12    0\n",
       "13    0\n",
       "14    0\n",
       "15    0\n",
       "16    0\n",
       "17    0\n",
       "18    0\n",
       "19    0\n",
       "20    0\n",
       "21    0\n",
       "22    0\n",
       "23    0\n",
       "24    0\n",
       "25    0\n",
       "26    0\n",
       "27    0\n",
       "28    0\n",
       "29    0\n",
       "30    0\n",
       "31    0\n",
       "32    0\n",
       "33    0\n",
       "34    0\n",
       "35    0\n",
       "36    0\n",
       "37    0\n",
       "38    0\n",
       "39    0\n",
       "40    0\n",
       "41    0\n",
       "42    0\n",
       "43    0\n",
       "44    0\n",
       "45    0\n",
       "46    0\n",
       "47    0\n",
       "48    0\n",
       "49    0\n",
       "50    0\n",
       "51    0\n",
       "52    0\n",
       "53    0\n",
       "54    0\n",
       "55    0\n",
       "56    0\n",
       "dtype: int64"
      ]
     },
     "execution_count": 13,
     "metadata": {},
     "output_type": "execute_result"
    }
   ],
   "source": [
    "df.isnull().sum()"
   ]
  },
  {
   "cell_type": "code",
   "execution_count": 14,
   "metadata": {},
   "outputs": [
    {
     "data": {
      "text/plain": [
       "<matplotlib.axes._subplots.AxesSubplot at 0x2f8d59392c8>"
      ]
     },
     "execution_count": 14,
     "metadata": {},
     "output_type": "execute_result"
    },
    {
     "data": {
      "image/png": "[encoded data removed]",
      "text/plain": [
       "<Figure size 432x288 with 2 Axes>"
      ]
     },
     "metadata": {
      "needs_background": "light"
     },
     "output_type": "display_data"
    }
   ],
   "source": [
    "sns.heatmap(df.isnull())"
   ]
  },
  {
   "cell_type": "code",
   "execution_count": 15,
   "metadata": {},
   "outputs": [
    {
     "data": {
      "text/html": [
       "<div>\n",
       "<style scoped>\n",
       "    .dataframe tbody tr th:only-of-type {\n",
       "        vertical-align: middle;\n",
       "    }\n",
       "\n",
       "    .dataframe tbody tr th {\n",
       "        vertical-align: top;\n",
       "    }\n",
       "\n",
       "    .dataframe thead th {\n",
       "        text-align: right;\n",
       "    }\n",
       "</style>\n",
       "<table border=\"1\" class=\"dataframe\">\n",
       "  <thead>\n",
       "    <tr style=\"text-align: right;\">\n",
       "      <th></th>\n",
       "      <th>0</th>\n",
       "      <th>1</th>\n",
       "      <th>2</th>\n",
       "      <th>3</th>\n",
       "      <th>5</th>\n",
       "      <th>6</th>\n",
       "      <th>7</th>\n",
       "      <th>8</th>\n",
       "      <th>9</th>\n",
       "      <th>10</th>\n",
       "      <th>...</th>\n",
       "      <th>47</th>\n",
       "      <th>48</th>\n",
       "      <th>49</th>\n",
       "      <th>50</th>\n",
       "      <th>51</th>\n",
       "      <th>52</th>\n",
       "      <th>53</th>\n",
       "      <th>54</th>\n",
       "      <th>55</th>\n",
       "      <th>56</th>\n",
       "    </tr>\n",
       "  </thead>\n",
       "  <tbody>\n",
       "    <tr>\n",
       "      <td>count</td>\n",
       "      <td>27.000000</td>\n",
       "      <td>27.0</td>\n",
       "      <td>27.000000</td>\n",
       "      <td>27.000000</td>\n",
       "      <td>27.000000</td>\n",
       "      <td>27.000000</td>\n",
       "      <td>27.000000</td>\n",
       "      <td>27.000000</td>\n",
       "      <td>27.000000</td>\n",
       "      <td>27.000000</td>\n",
       "      <td>...</td>\n",
       "      <td>27.000000</td>\n",
       "      <td>27.000000</td>\n",
       "      <td>27.000000</td>\n",
       "      <td>27.000000</td>\n",
       "      <td>27.000000</td>\n",
       "      <td>27.000000</td>\n",
       "      <td>27.000000</td>\n",
       "      <td>27.000000</td>\n",
       "      <td>27.000000</td>\n",
       "      <td>27.000000</td>\n",
       "    </tr>\n",
       "    <tr>\n",
       "      <td>mean</td>\n",
       "      <td>2.037037</td>\n",
       "      <td>0.0</td>\n",
       "      <td>2.370370</td>\n",
       "      <td>2.296296</td>\n",
       "      <td>0.259259</td>\n",
       "      <td>2.259259</td>\n",
       "      <td>2.074074</td>\n",
       "      <td>2.407407</td>\n",
       "      <td>1.111111</td>\n",
       "      <td>1.370370</td>\n",
       "      <td>...</td>\n",
       "      <td>2.074074</td>\n",
       "      <td>2.074074</td>\n",
       "      <td>2.000000</td>\n",
       "      <td>2.037037</td>\n",
       "      <td>2.000000</td>\n",
       "      <td>1.888889</td>\n",
       "      <td>1.851852</td>\n",
       "      <td>1.592593</td>\n",
       "      <td>1.851852</td>\n",
       "      <td>1.703704</td>\n",
       "    </tr>\n",
       "    <tr>\n",
       "      <td>std</td>\n",
       "      <td>0.807726</td>\n",
       "      <td>0.0</td>\n",
       "      <td>0.564879</td>\n",
       "      <td>0.724028</td>\n",
       "      <td>0.446576</td>\n",
       "      <td>0.712125</td>\n",
       "      <td>0.780824</td>\n",
       "      <td>0.797074</td>\n",
       "      <td>0.423659</td>\n",
       "      <td>0.564879</td>\n",
       "      <td>...</td>\n",
       "      <td>0.266880</td>\n",
       "      <td>0.266880</td>\n",
       "      <td>0.392232</td>\n",
       "      <td>0.337580</td>\n",
       "      <td>0.480384</td>\n",
       "      <td>0.423659</td>\n",
       "      <td>0.456045</td>\n",
       "      <td>0.500712</td>\n",
       "      <td>0.362014</td>\n",
       "      <td>0.465322</td>\n",
       "    </tr>\n",
       "    <tr>\n",
       "      <td>min</td>\n",
       "      <td>1.000000</td>\n",
       "      <td>0.0</td>\n",
       "      <td>1.000000</td>\n",
       "      <td>1.000000</td>\n",
       "      <td>0.000000</td>\n",
       "      <td>1.000000</td>\n",
       "      <td>1.000000</td>\n",
       "      <td>1.000000</td>\n",
       "      <td>1.000000</td>\n",
       "      <td>1.000000</td>\n",
       "      <td>...</td>\n",
       "      <td>2.000000</td>\n",
       "      <td>2.000000</td>\n",
       "      <td>1.000000</td>\n",
       "      <td>1.000000</td>\n",
       "      <td>1.000000</td>\n",
       "      <td>1.000000</td>\n",
       "      <td>1.000000</td>\n",
       "      <td>1.000000</td>\n",
       "      <td>1.000000</td>\n",
       "      <td>1.000000</td>\n",
       "    </tr>\n",
       "    <tr>\n",
       "      <td>25%</td>\n",
       "      <td>1.000000</td>\n",
       "      <td>0.0</td>\n",
       "      <td>2.000000</td>\n",
       "      <td>2.000000</td>\n",
       "      <td>0.000000</td>\n",
       "      <td>2.000000</td>\n",
       "      <td>1.500000</td>\n",
       "      <td>2.000000</td>\n",
       "      <td>1.000000</td>\n",
       "      <td>1.000000</td>\n",
       "      <td>...</td>\n",
       "      <td>2.000000</td>\n",
       "      <td>2.000000</td>\n",
       "      <td>2.000000</td>\n",
       "      <td>2.000000</td>\n",
       "      <td>2.000000</td>\n",
       "      <td>2.000000</td>\n",
       "      <td>2.000000</td>\n",
       "      <td>1.000000</td>\n",
       "      <td>2.000000</td>\n",
       "      <td>1.000000</td>\n",
       "    </tr>\n",
       "    <tr>\n",
       "      <td>50%</td>\n",
       "      <td>2.000000</td>\n",
       "      <td>0.0</td>\n",
       "      <td>2.000000</td>\n",
       "      <td>2.000000</td>\n",
       "      <td>0.000000</td>\n",
       "      <td>2.000000</td>\n",
       "      <td>2.000000</td>\n",
       "      <td>3.000000</td>\n",
       "      <td>1.000000</td>\n",
       "      <td>1.000000</td>\n",
       "      <td>...</td>\n",
       "      <td>2.000000</td>\n",
       "      <td>2.000000</td>\n",
       "      <td>2.000000</td>\n",
       "      <td>2.000000</td>\n",
       "      <td>2.000000</td>\n",
       "      <td>2.000000</td>\n",
       "      <td>2.000000</td>\n",
       "      <td>2.000000</td>\n",
       "      <td>2.000000</td>\n",
       "      <td>2.000000</td>\n",
       "    </tr>\n",
       "    <tr>\n",
       "      <td>75%</td>\n",
       "      <td>3.000000</td>\n",
       "      <td>0.0</td>\n",
       "      <td>3.000000</td>\n",
       "      <td>3.000000</td>\n",
       "      <td>0.500000</td>\n",
       "      <td>3.000000</td>\n",
       "      <td>3.000000</td>\n",
       "      <td>3.000000</td>\n",
       "      <td>1.000000</td>\n",
       "      <td>2.000000</td>\n",
       "      <td>...</td>\n",
       "      <td>2.000000</td>\n",
       "      <td>2.000000</td>\n",
       "      <td>2.000000</td>\n",
       "      <td>2.000000</td>\n",
       "      <td>2.000000</td>\n",
       "      <td>2.000000</td>\n",
       "      <td>2.000000</td>\n",
       "      <td>2.000000</td>\n",
       "      <td>2.000000</td>\n",
       "      <td>2.000000</td>\n",
       "    </tr>\n",
       "    <tr>\n",
       "      <td>max</td>\n",
       "      <td>3.000000</td>\n",
       "      <td>0.0</td>\n",
       "      <td>3.000000</td>\n",
       "      <td>3.000000</td>\n",
       "      <td>1.000000</td>\n",
       "      <td>3.000000</td>\n",
       "      <td>3.000000</td>\n",
       "      <td>3.000000</td>\n",
       "      <td>3.000000</td>\n",
       "      <td>3.000000</td>\n",
       "      <td>...</td>\n",
       "      <td>3.000000</td>\n",
       "      <td>3.000000</td>\n",
       "      <td>3.000000</td>\n",
       "      <td>3.000000</td>\n",
       "      <td>3.000000</td>\n",
       "      <td>3.000000</td>\n",
       "      <td>3.000000</td>\n",
       "      <td>2.000000</td>\n",
       "      <td>2.000000</td>\n",
       "      <td>2.000000</td>\n",
       "    </tr>\n",
       "  </tbody>\n",
       "</table>\n",
       "<p>8 rows × 55 columns</p>\n",
       "</div>"
      ],
      "text/plain": [
       "              0     1          2          3          5          6          7   \\\n",
       "count  27.000000  27.0  27.000000  27.000000  27.000000  27.000000  27.000000   \n",
       "mean    2.037037   0.0   2.370370   2.296296   0.259259   2.259259   2.074074   \n",
       "std     0.807726   0.0   0.564879   0.724028   0.446576   0.712125   0.780824   \n",
       "min     1.000000   0.0   1.000000   1.000000   0.000000   1.000000   1.000000   \n",
       "25%     1.000000   0.0   2.000000   2.000000   0.000000   2.000000   1.500000   \n",
       "50%     2.000000   0.0   2.000000   2.000000   0.000000   2.000000   2.000000   \n",
       "75%     3.000000   0.0   3.000000   3.000000   0.500000   3.000000   3.000000   \n",
       "max     3.000000   0.0   3.000000   3.000000   1.000000   3.000000   3.000000   \n",
       "\n",
       "              8          9          10  ...         47         48         49  \\\n",
       "count  27.000000  27.000000  27.000000  ...  27.000000  27.000000  27.000000   \n",
       "mean    2.407407   1.111111   1.370370  ...   2.074074   2.074074   2.000000   \n",
       "std     0.797074   0.423659   0.564879  ...   0.266880   0.266880   0.392232   \n",
       "min     1.000000   1.000000   1.000000  ...   2.000000   2.000000   1.000000   \n",
       "25%     2.000000   1.000000   1.000000  ...   2.000000   2.000000   2.000000   \n",
       "50%     3.000000   1.000000   1.000000  ...   2.000000   2.000000   2.000000   \n",
       "75%     3.000000   1.000000   2.000000  ...   2.000000   2.000000   2.000000   \n",
       "max     3.000000   3.000000   3.000000  ...   3.000000   3.000000   3.000000   \n",
       "\n",
       "              50         51         52         53         54         55  \\\n",
       "count  27.000000  27.000000  27.000000  27.000000  27.000000  27.000000   \n",
       "mean    2.037037   2.000000   1.888889   1.851852   1.592593   1.851852   \n",
       "std     0.337580   0.480384   0.423659   0.456045   0.500712   0.362014   \n",
       "min     1.000000   1.000000   1.000000   1.000000   1.000000   1.000000   \n",
       "25%     2.000000   2.000000   2.000000   2.000000   1.000000   2.000000   \n",
       "50%     2.000000   2.000000   2.000000   2.000000   2.000000   2.000000   \n",
       "75%     2.000000   2.000000   2.000000   2.000000   2.000000   2.000000   \n",
       "max     3.000000   3.000000   3.000000   3.000000   2.000000   2.000000   \n",
       "\n",
       "              56  \n",
       "count  27.000000  \n",
       "mean    1.703704  \n",
       "std     0.465322  \n",
       "min     1.000000  \n",
       "25%     1.000000  \n",
       "50%     2.000000  \n",
       "75%     2.000000  \n",
       "max     2.000000  \n",
       "\n",
       "[8 rows x 55 columns]"
      ]
     },
     "execution_count": 15,
     "metadata": {},
     "output_type": "execute_result"
    }
   ],
   "source": [
    "df.describe()"
   ]
  },
  {
   "cell_type": "code",
   "execution_count": 16,
   "metadata": {},
   "outputs": [
    {
     "data": {
      "image/png": "[encoded data removed]",
      "text/plain": [
       "<Figure size 1440x1440 with 56 Axes>"
      ]
     },
     "metadata": {
      "needs_background": "light"
     },
     "output_type": "display_data"
    }
   ],
   "source": [
    "df.hist(figsize=(20,20))\n",
    "plt.show()"
   ]
  },
  {
   "cell_type": "code",
   "execution_count": 18,
   "metadata": {},
   "outputs": [
    {
     "data": {
      "text/html": [
       "<div>\n",
       "<style scoped>\n",
       "    .dataframe tbody tr th:only-of-type {\n",
       "        vertical-align: middle;\n",
       "    }\n",
       "\n",
       "    .dataframe tbody tr th {\n",
       "        vertical-align: top;\n",
       "    }\n",
       "\n",
       "    .dataframe thead th {\n",
       "        text-align: right;\n",
       "    }\n",
       "</style>\n",
       "<table border=\"1\" class=\"dataframe\">\n",
       "  <thead>\n",
       "    <tr style=\"text-align: right;\">\n",
       "      <th></th>\n",
       "      <th>0</th>\n",
       "      <th>1</th>\n",
       "      <th>2</th>\n",
       "      <th>3</th>\n",
       "      <th>4</th>\n",
       "      <th>5</th>\n",
       "      <th>6</th>\n",
       "      <th>7</th>\n",
       "      <th>8</th>\n",
       "      <th>9</th>\n",
       "      <th>...</th>\n",
       "      <th>47</th>\n",
       "      <th>48</th>\n",
       "      <th>49</th>\n",
       "      <th>50</th>\n",
       "      <th>51</th>\n",
       "      <th>52</th>\n",
       "      <th>53</th>\n",
       "      <th>54</th>\n",
       "      <th>55</th>\n",
       "      <th>56</th>\n",
       "    </tr>\n",
       "  </thead>\n",
       "  <tbody>\n",
       "    <tr>\n",
       "      <td>0</td>\n",
       "      <td>1</td>\n",
       "      <td>0</td>\n",
       "      <td>3</td>\n",
       "      <td>3</td>\n",
       "      <td>1</td>\n",
       "      <td>0</td>\n",
       "      <td>3</td>\n",
       "      <td>1</td>\n",
       "      <td>3</td>\n",
       "      <td>1</td>\n",
       "      <td>...</td>\n",
       "      <td>2</td>\n",
       "      <td>2</td>\n",
       "      <td>2</td>\n",
       "      <td>2</td>\n",
       "      <td>2</td>\n",
       "      <td>2</td>\n",
       "      <td>2</td>\n",
       "      <td>1</td>\n",
       "      <td>2</td>\n",
       "      <td>2</td>\n",
       "    </tr>\n",
       "    <tr>\n",
       "      <td>1</td>\n",
       "      <td>1</td>\n",
       "      <td>0</td>\n",
       "      <td>3</td>\n",
       "      <td>3</td>\n",
       "      <td>2</td>\n",
       "      <td>0</td>\n",
       "      <td>3</td>\n",
       "      <td>3</td>\n",
       "      <td>3</td>\n",
       "      <td>1</td>\n",
       "      <td>...</td>\n",
       "      <td>2</td>\n",
       "      <td>2</td>\n",
       "      <td>2</td>\n",
       "      <td>2</td>\n",
       "      <td>2</td>\n",
       "      <td>2</td>\n",
       "      <td>2</td>\n",
       "      <td>2</td>\n",
       "      <td>1</td>\n",
       "      <td>2</td>\n",
       "    </tr>\n",
       "    <tr>\n",
       "      <td>2</td>\n",
       "      <td>1</td>\n",
       "      <td>0</td>\n",
       "      <td>2</td>\n",
       "      <td>3</td>\n",
       "      <td>2</td>\n",
       "      <td>1</td>\n",
       "      <td>3</td>\n",
       "      <td>3</td>\n",
       "      <td>3</td>\n",
       "      <td>1</td>\n",
       "      <td>...</td>\n",
       "      <td>2</td>\n",
       "      <td>2</td>\n",
       "      <td>2</td>\n",
       "      <td>2</td>\n",
       "      <td>2</td>\n",
       "      <td>2</td>\n",
       "      <td>2</td>\n",
       "      <td>2</td>\n",
       "      <td>2</td>\n",
       "      <td>2</td>\n",
       "    </tr>\n",
       "    <tr>\n",
       "      <td>3</td>\n",
       "      <td>1</td>\n",
       "      <td>0</td>\n",
       "      <td>3</td>\n",
       "      <td>2</td>\n",
       "      <td>1</td>\n",
       "      <td>1</td>\n",
       "      <td>3</td>\n",
       "      <td>3</td>\n",
       "      <td>3</td>\n",
       "      <td>2</td>\n",
       "      <td>...</td>\n",
       "      <td>2</td>\n",
       "      <td>2</td>\n",
       "      <td>2</td>\n",
       "      <td>2</td>\n",
       "      <td>2</td>\n",
       "      <td>2</td>\n",
       "      <td>2</td>\n",
       "      <td>1</td>\n",
       "      <td>2</td>\n",
       "      <td>2</td>\n",
       "    </tr>\n",
       "    <tr>\n",
       "      <td>4</td>\n",
       "      <td>1</td>\n",
       "      <td>0</td>\n",
       "      <td>3</td>\n",
       "      <td>3</td>\n",
       "      <td>2</td>\n",
       "      <td>0</td>\n",
       "      <td>3</td>\n",
       "      <td>3</td>\n",
       "      <td>3</td>\n",
       "      <td>1</td>\n",
       "      <td>...</td>\n",
       "      <td>2</td>\n",
       "      <td>2</td>\n",
       "      <td>2</td>\n",
       "      <td>2</td>\n",
       "      <td>2</td>\n",
       "      <td>2</td>\n",
       "      <td>2</td>\n",
       "      <td>2</td>\n",
       "      <td>1</td>\n",
       "      <td>2</td>\n",
       "    </tr>\n",
       "  </tbody>\n",
       "</table>\n",
       "<p>5 rows × 57 columns</p>\n",
       "</div>"
      ],
      "text/plain": [
       "   0   1   2   3  4   5   6   7   8   9   ...  47  48  49  50  51  52  53  54  \\\n",
       "0   1   0   3   3  1   0   3   1   3   1  ...   2   2   2   2   2   2   2   1   \n",
       "1   1   0   3   3  2   0   3   3   3   1  ...   2   2   2   2   2   2   2   2   \n",
       "2   1   0   2   3  2   1   3   3   3   1  ...   2   2   2   2   2   2   2   2   \n",
       "3   1   0   3   2  1   1   3   3   3   2  ...   2   2   2   2   2   2   2   1   \n",
       "4   1   0   3   3  2   0   3   3   3   1  ...   2   2   2   2   2   2   2   2   \n",
       "\n",
       "   55  56  \n",
       "0   2   2  \n",
       "1   1   2  \n",
       "2   2   2  \n",
       "3   2   2  \n",
       "4   1   2  \n",
       "\n",
       "[5 rows x 57 columns]"
      ]
     },
     "execution_count": 18,
     "metadata": {},
     "output_type": "execute_result"
    }
   ],
   "source": [
    "df.head()"
   ]
  },
  {
   "cell_type": "code",
   "execution_count": 21,
   "metadata": {},
   "outputs": [
    {
     "data": {
      "text/plain": [
       "{'whiskers': [<matplotlib.lines.Line2D at 0x1ee3d406548>,\n",
       "  <matplotlib.lines.Line2D at 0x1ee3d406a88>],\n",
       " 'caps': [<matplotlib.lines.Line2D at 0x1ee3d406fc8>,\n",
       "  <matplotlib.lines.Line2D at 0x1ee3d406c08>],\n",
       " 'boxes': [<matplotlib.lines.Line2D at 0x1ee3d402e88>],\n",
       " 'medians': [<matplotlib.lines.Line2D at 0x1ee3d40aac8>],\n",
       " 'fliers': [<matplotlib.lines.Line2D at 0x1ee3d40afc8>],\n",
       " 'means': []}"
      ]
     },
     "execution_count": 21,
     "metadata": {},
     "output_type": "execute_result"
    },
    {
     "data": {
      "image/png": "[encoded data removed]",
      "text/plain": [
       "<Figure size 432x288 with 1 Axes>"
      ]
     },
     "metadata": {
      "needs_background": "light"
     },
     "output_type": "display_data"
    }
   ],
   "source": [
    "plt.boxplot(df[56])"
   ]
  },
  {
   "cell_type": "code",
   "execution_count": 22,
   "metadata": {},
   "outputs": [
    {
     "data": {
      "text/plain": [
       "{'bodies': [<matplotlib.collections.PolyCollection at 0x1ee3d435a88>],\n",
       " 'cmaxes': <matplotlib.collections.LineCollection at 0x1ee3d42fa88>,\n",
       " 'cmins': <matplotlib.collections.LineCollection at 0x1ee3d435d08>,\n",
       " 'cbars': <matplotlib.collections.LineCollection at 0x1ee3d435c48>}"
      ]
     },
     "execution_count": 22,
     "metadata": {},
     "output_type": "execute_result"
    },
    {
     "data": {
      "image/png": "[encoded data removed]",
      "text/plain": [
       "<Figure size 432x288 with 1 Axes>"
      ]
     },
     "metadata": {
      "needs_background": "light"
     },
     "output_type": "display_data"
    }
   ],
   "source": [
    "plt.violinplot(df[56])"
   ]
  },
  {
   "cell_type": "code",
   "execution_count": 26,
   "metadata": {},
   "outputs": [
    {
     "data": {
      "text/plain": [
       "<matplotlib.axes._subplots.AxesSubplot at 0x1ee3d572e88>"
      ]
     },
     "execution_count": 26,
     "metadata": {},
     "output_type": "execute_result"
    },
    {
     "data": {
      "image/png": "[encoded data removed]",
      "text/plain": [
       "<Figure size 432x288 with 1 Axes>"
      ]
     },
     "metadata": {
      "needs_background": "light"
     },
     "output_type": "display_data"
    }
   ],
   "source": [
    "sns.stripplot(5,56,data=df)"
   ]
  },
  {
   "cell_type": "code",
   "execution_count": 27,
   "metadata": {},
   "outputs": [
    {
     "data": {
      "text/plain": [
       "<matplotlib.axes._subplots.AxesSubplot at 0x1ee3d5ca348>"
      ]
     },
     "execution_count": 27,
     "metadata": {},
     "output_type": "execute_result"
    },
    {
     "data": {
      "image/png": "[encoded data removed]",
      "text/plain": [
       "<Figure size 432x288 with 1 Axes>"
      ]
     },
     "metadata": {
      "needs_background": "light"
     },
     "output_type": "display_data"
    }
   ],
   "source": [
    "sns.swarmplot(1,56,data=df)"
   ]
  },
  {
   "cell_type": "code",
   "execution_count": 28,
   "metadata": {},
   "outputs": [
    {
     "data": {
      "text/plain": [
       "<seaborn.axisgrid.FacetGrid at 0x1ee3d55bc08>"
      ]
     },
     "execution_count": 28,
     "metadata": {},
     "output_type": "execute_result"
    },
    {
     "data": {
      "image/png": "[encoded data removed]",
      "text/plain": [
       "<Figure size 360x360 with 1 Axes>"
      ]
     },
     "metadata": {
      "needs_background": "light"
     },
     "output_type": "display_data"
    }
   ],
   "source": [
    "sns.catplot(0,56,data=df,kind='bar')"
   ]
  },
  {
   "cell_type": "code",
   "execution_count": 31,
   "metadata": {},
   "outputs": [
    {
     "data": {
      "text/plain": [
       "<seaborn.axisgrid.FacetGrid at 0x1ee3d7143c8>"
      ]
     },
     "execution_count": 31,
     "metadata": {},
     "output_type": "execute_result"
    },
    {
     "data": {
      "image/png": "[encoded data removed]",
      "text/plain": [
       "<Figure size 360x360 with 1 Axes>"
      ]
     },
     "metadata": {
      "needs_background": "light"
     },
     "output_type": "display_data"
    }
   ],
   "source": [
    "sns.catplot(2,55,data=df,palette='rainbow',kind='point')"
   ]
  },
  {
   "cell_type": "code",
   "execution_count": 32,
   "metadata": {},
   "outputs": [
    {
     "data": {
      "text/plain": [
       "<seaborn.axisgrid.FacetGrid at 0x1ee3d7c4e48>"
      ]
     },
     "execution_count": 32,
     "metadata": {},
     "output_type": "execute_result"
    },
    {
     "data": {
      "image/png": "[encoded data removed]",
      "text/plain": [
       "<Figure size 360x360 with 1 Axes>"
      ]
     },
     "metadata": {
      "needs_background": "light"
     },
     "output_type": "display_data"
    }
   ],
   "source": [
    "sns.catplot(3,54,data=df,kind='violin')"
   ]
  },
  {
   "cell_type": "code",
   "execution_count": 33,
   "metadata": {},
   "outputs": [
    {
     "data": {
      "text/plain": [
       "<seaborn.axisgrid.FacetGrid at 0x1ee3d840448>"
      ]
     },
     "execution_count": 33,
     "metadata": {},
     "output_type": "execute_result"
    },
    {
     "data": {
      "image/png": "[encoded data removed]",
      "text/plain": [
       "<Figure size 360x360 with 1 Axes>"
      ]
     },
     "metadata": {
      "needs_background": "light"
     },
     "output_type": "display_data"
    }
   ],
   "source": [
    "sns.catplot(6,56,data=df,palette='rainbow_r',kind='box')"
   ]
  },
  {
   "cell_type": "code",
   "execution_count": 37,
   "metadata": {},
   "outputs": [
    {
     "data": {
      "text/plain": [
       "<seaborn.axisgrid.FacetGrid at 0x1ee3d943648>"
      ]
     },
     "execution_count": 37,
     "metadata": {},
     "output_type": "execute_result"
    },
    {
     "data": {
      "image/png": "[encoded data removed]",
      "text/plain": [
       "<Figure size 360x360 with 1 Axes>"
      ]
     },
     "metadata": {
      "needs_background": "light"
     },
     "output_type": "display_data"
    }
   ],
   "source": [
    "sns.catplot(6,50,data=df,palette='ocean_r',kind='boxen')"
   ]
  },
  {
   "cell_type": "code",
   "execution_count": 38,
   "metadata": {},
   "outputs": [
    {
     "data": {
      "text/plain": [
       "<matplotlib.axes._subplots.AxesSubplot at 0x1ee3f2f6308>"
      ]
     },
     "execution_count": 38,
     "metadata": {},
     "output_type": "execute_result"
    },
    {
     "data": {
      "image/png": "[encoded data removed]",
      "text/plain": [
       "<Figure size 432x288 with 1 Axes>"
      ]
     },
     "metadata": {
      "needs_background": "light"
     },
     "output_type": "display_data"
    }
   ],
   "source": [
    "sns.countplot(df[55])"
   ]
  },
  {
   "cell_type": "code",
   "execution_count": 39,
   "metadata": {},
   "outputs": [
    {
     "data": {
      "text/plain": [
       "<matplotlib.axes._subplots.AxesSubplot at 0x1ee3f282848>"
      ]
     },
     "execution_count": 39,
     "metadata": {},
     "output_type": "execute_result"
    },
    {
     "data": {
      "image/png": "[encoded data removed]",
      "text/plain": [
       "<Figure size 432x288 with 1 Axes>"
      ]
     },
     "metadata": {
      "needs_background": "light"
     },
     "output_type": "display_data"
    }
   ],
   "source": [
    "sns.countplot(df[56])"
   ]
  },
  {
   "cell_type": "code",
   "execution_count": 40,
   "metadata": {},
   "outputs": [
    {
     "data": {
      "text/plain": [
       "<matplotlib.axes._subplots.AxesSubplot at 0x1ee3f3a4308>"
      ]
     },
     "execution_count": 40,
     "metadata": {},
     "output_type": "execute_result"
    },
    {
     "data": {
      "image/png": "[encoded data removed]",
      "text/plain": [
       "<Figure size 432x288 with 1 Axes>"
      ]
     },
     "metadata": {
      "needs_background": "light"
     },
     "output_type": "display_data"
    }
   ],
   "source": [
    "sns.countplot(df[38])"
   ]
  },
  {
   "cell_type": "code",
   "execution_count": 41,
   "metadata": {},
   "outputs": [
    {
     "data": {
      "text/plain": [
       "<seaborn.axisgrid.JointGrid at 0x1ee3f3e1b88>"
      ]
     },
     "execution_count": 41,
     "metadata": {},
     "output_type": "execute_result"
    },
    {
     "data": {
      "image/png": "[encoded data removed]",
      "text/plain": [
       "<Figure size 432x432 with 3 Axes>"
      ]
     },
     "metadata": {
      "needs_background": "light"
     },
     "output_type": "display_data"
    }
   ],
   "source": [
    "sns.jointplot(5,56,data=df,kind='kde')"
   ]
  },
  {
   "cell_type": "code",
   "execution_count": 19,
   "metadata": {},
   "outputs": [
    {
     "data": {
      "text/plain": [
       "{dtype('int64'): Int64Index([ 0,  1,  2,  3,  5,  6,  7,  8,  9, 10, 11, 12, 13, 14, 15, 16, 17,\n",
       "             18, 19, 20, 21, 22, 23, 24, 25, 26, 27, 28, 29, 30, 31, 32, 33, 34,\n",
       "             35, 36, 37, 39, 40, 41, 42, 43, 44, 45, 46, 47, 48, 49, 50, 51, 52,\n",
       "             53, 54, 55, 56],\n",
       "            dtype='int64'), dtype('O'): Int64Index([4, 38], dtype='int64')}"
      ]
     },
     "execution_count": 19,
     "metadata": {},
     "output_type": "execute_result"
    }
   ],
   "source": [
    "df.columns.to_series().groupby(df.dtypes).groups"
   ]
  },
  {
   "cell_type": "code",
   "execution_count": 42,
   "metadata": {},
   "outputs": [
    {
     "data": {
      "text/plain": [
       "<seaborn.axisgrid.JointGrid at 0x1ee3f549c48>"
      ]
     },
     "execution_count": 42,
     "metadata": {},
     "output_type": "execute_result"
    },
    {
     "data": {
      "image/png": "[encoded data removed]",
      "text/plain": [
       "<Figure size 432x432 with 3 Axes>"
      ]
     },
     "metadata": {
      "needs_background": "light"
     },
     "output_type": "display_data"
    }
   ],
   "source": [
    "sns.jointplot(6,55,data=df,kind='reg')"
   ]
  },
  {
   "cell_type": "code",
   "execution_count": 43,
   "metadata": {},
   "outputs": [
    {
     "data": {
      "text/plain": [
       "<seaborn.axisgrid.JointGrid at 0x1ee3f54d948>"
      ]
     },
     "execution_count": 43,
     "metadata": {},
     "output_type": "execute_result"
    },
    {
     "data": {
      "image/png": "[encoded data removed]",
      "text/plain": [
       "<Figure size 432x432 with 3 Axes>"
      ]
     },
     "metadata": {
      "needs_background": "light"
     },
     "output_type": "display_data"
    }
   ],
   "source": [
    "sns.jointplot(5,54,data=df,kind='reside')"
   ]
  },
  {
   "cell_type": "code",
   "execution_count": 44,
   "metadata": {},
   "outputs": [
    {
     "data": {
      "text/plain": [
       "<seaborn.axisgrid.JointGrid at 0x1ee3c23ecc8>"
      ]
     },
     "execution_count": 44,
     "metadata": {},
     "output_type": "execute_result"
    },
    {
     "data": {
      "image/png": "[encoded data removed]",
      "text/plain": [
       "<Figure size 432x432 with 3 Axes>"
      ]
     },
     "metadata": {
      "needs_background": "light"
     },
     "output_type": "display_data"
    }
   ],
   "source": [
    "sns.jointplot(5,56,data=df,kind='hex')"
   ]
  },
  {
   "cell_type": "code",
   "execution_count": 45,
   "metadata": {},
   "outputs": [
    {
     "data": {
      "text/plain": [
       "<matplotlib.axes._subplots.AxesSubplot at 0x1ee3dab5288>"
      ]
     },
     "execution_count": 45,
     "metadata": {},
     "output_type": "execute_result"
    },
    {
     "data": {
      "image/png": "[encoded data removed]",
      "text/plain": [
       "<Figure size 432x288 with 1 Axes>"
      ]
     },
     "metadata": {
      "needs_background": "light"
     },
     "output_type": "display_data"
    }
   ],
   "source": [
    "sns.distplot(df[55],color='y')"
   ]
  },
  {
   "cell_type": "code",
   "execution_count": 46,
   "metadata": {},
   "outputs": [
    {
     "data": {
      "text/plain": [
       "<matplotlib.axes._subplots.AxesSubplot at 0x1ee3be1f848>"
      ]
     },
     "execution_count": 46,
     "metadata": {},
     "output_type": "execute_result"
    },
    {
     "data": {
      "image/png": "[encoded data removed]",
      "text/plain": [
       "<Figure size 432x288 with 1 Axes>"
      ]
     },
     "metadata": {
      "needs_background": "light"
     },
     "output_type": "display_data"
    }
   ],
   "source": [
    "sns.distplot(df[56],color='r',kde=False)"
   ]
  },
  {
   "cell_type": "code",
   "execution_count": 47,
   "metadata": {},
   "outputs": [
    {
     "data": {
      "text/plain": [
       "<matplotlib.axes._subplots.AxesSubplot at 0x1ee3b7b9dc8>"
      ]
     },
     "execution_count": 47,
     "metadata": {},
     "output_type": "execute_result"
    },
    {
     "data": {
      "image/png": "[encoded data removed]",
      "text/plain": [
       "<Figure size 432x288 with 1 Axes>"
      ]
     },
     "metadata": {
      "needs_background": "light"
     },
     "output_type": "display_data"
    }
   ],
   "source": [
    "sns.distplot(df[56],color='r',hist=False)"
   ]
  },
  {
   "cell_type": "code",
   "execution_count": 17,
   "metadata": {},
   "outputs": [
    {
     "data": {
      "text/plain": [
       "(27, 57)"
      ]
     },
     "execution_count": 17,
     "metadata": {},
     "output_type": "execute_result"
    }
   ],
   "source": [
    "df.shape"
   ]
  },
  {
   "cell_type": "code",
   "execution_count": 18,
   "metadata": {},
   "outputs": [
    {
     "data": {
      "text/html": [
       "<div>\n",
       "<style scoped>\n",
       "    .dataframe tbody tr th:only-of-type {\n",
       "        vertical-align: middle;\n",
       "    }\n",
       "\n",
       "    .dataframe tbody tr th {\n",
       "        vertical-align: top;\n",
       "    }\n",
       "\n",
       "    .dataframe thead th {\n",
       "        text-align: right;\n",
       "    }\n",
       "</style>\n",
       "<table border=\"1\" class=\"dataframe\">\n",
       "  <thead>\n",
       "    <tr style=\"text-align: right;\">\n",
       "      <th></th>\n",
       "      <th>0</th>\n",
       "      <th>1</th>\n",
       "      <th>2</th>\n",
       "      <th>3</th>\n",
       "      <th>4</th>\n",
       "      <th>5</th>\n",
       "      <th>6</th>\n",
       "      <th>7</th>\n",
       "      <th>8</th>\n",
       "      <th>9</th>\n",
       "      <th>...</th>\n",
       "      <th>47</th>\n",
       "      <th>48</th>\n",
       "      <th>49</th>\n",
       "      <th>50</th>\n",
       "      <th>51</th>\n",
       "      <th>52</th>\n",
       "      <th>53</th>\n",
       "      <th>54</th>\n",
       "      <th>55</th>\n",
       "      <th>56</th>\n",
       "    </tr>\n",
       "  </thead>\n",
       "  <tbody>\n",
       "    <tr>\n",
       "      <td>0</td>\n",
       "      <td>1</td>\n",
       "      <td>0</td>\n",
       "      <td>3</td>\n",
       "      <td>3</td>\n",
       "      <td>1</td>\n",
       "      <td>0</td>\n",
       "      <td>3</td>\n",
       "      <td>1</td>\n",
       "      <td>3</td>\n",
       "      <td>1</td>\n",
       "      <td>...</td>\n",
       "      <td>2</td>\n",
       "      <td>2</td>\n",
       "      <td>2</td>\n",
       "      <td>2</td>\n",
       "      <td>2</td>\n",
       "      <td>2</td>\n",
       "      <td>2</td>\n",
       "      <td>1</td>\n",
       "      <td>2</td>\n",
       "      <td>2</td>\n",
       "    </tr>\n",
       "    <tr>\n",
       "      <td>1</td>\n",
       "      <td>1</td>\n",
       "      <td>0</td>\n",
       "      <td>3</td>\n",
       "      <td>3</td>\n",
       "      <td>2</td>\n",
       "      <td>0</td>\n",
       "      <td>3</td>\n",
       "      <td>3</td>\n",
       "      <td>3</td>\n",
       "      <td>1</td>\n",
       "      <td>...</td>\n",
       "      <td>2</td>\n",
       "      <td>2</td>\n",
       "      <td>2</td>\n",
       "      <td>2</td>\n",
       "      <td>2</td>\n",
       "      <td>2</td>\n",
       "      <td>2</td>\n",
       "      <td>2</td>\n",
       "      <td>1</td>\n",
       "      <td>2</td>\n",
       "    </tr>\n",
       "    <tr>\n",
       "      <td>2</td>\n",
       "      <td>1</td>\n",
       "      <td>0</td>\n",
       "      <td>2</td>\n",
       "      <td>3</td>\n",
       "      <td>2</td>\n",
       "      <td>1</td>\n",
       "      <td>3</td>\n",
       "      <td>3</td>\n",
       "      <td>3</td>\n",
       "      <td>1</td>\n",
       "      <td>...</td>\n",
       "      <td>2</td>\n",
       "      <td>2</td>\n",
       "      <td>2</td>\n",
       "      <td>2</td>\n",
       "      <td>2</td>\n",
       "      <td>2</td>\n",
       "      <td>2</td>\n",
       "      <td>2</td>\n",
       "      <td>2</td>\n",
       "      <td>2</td>\n",
       "    </tr>\n",
       "    <tr>\n",
       "      <td>3</td>\n",
       "      <td>1</td>\n",
       "      <td>0</td>\n",
       "      <td>3</td>\n",
       "      <td>2</td>\n",
       "      <td>1</td>\n",
       "      <td>1</td>\n",
       "      <td>3</td>\n",
       "      <td>3</td>\n",
       "      <td>3</td>\n",
       "      <td>2</td>\n",
       "      <td>...</td>\n",
       "      <td>2</td>\n",
       "      <td>2</td>\n",
       "      <td>2</td>\n",
       "      <td>2</td>\n",
       "      <td>2</td>\n",
       "      <td>2</td>\n",
       "      <td>2</td>\n",
       "      <td>1</td>\n",
       "      <td>2</td>\n",
       "      <td>2</td>\n",
       "    </tr>\n",
       "    <tr>\n",
       "      <td>4</td>\n",
       "      <td>1</td>\n",
       "      <td>0</td>\n",
       "      <td>3</td>\n",
       "      <td>3</td>\n",
       "      <td>2</td>\n",
       "      <td>0</td>\n",
       "      <td>3</td>\n",
       "      <td>3</td>\n",
       "      <td>3</td>\n",
       "      <td>1</td>\n",
       "      <td>...</td>\n",
       "      <td>2</td>\n",
       "      <td>2</td>\n",
       "      <td>2</td>\n",
       "      <td>2</td>\n",
       "      <td>2</td>\n",
       "      <td>2</td>\n",
       "      <td>2</td>\n",
       "      <td>2</td>\n",
       "      <td>1</td>\n",
       "      <td>2</td>\n",
       "    </tr>\n",
       "  </tbody>\n",
       "</table>\n",
       "<p>5 rows × 57 columns</p>\n",
       "</div>"
      ],
      "text/plain": [
       "   0   1   2   3  4   5   6   7   8   9   ...  47  48  49  50  51  52  53  54  \\\n",
       "0   1   0   3   3  1   0   3   1   3   1  ...   2   2   2   2   2   2   2   1   \n",
       "1   1   0   3   3  2   0   3   3   3   1  ...   2   2   2   2   2   2   2   2   \n",
       "2   1   0   2   3  2   1   3   3   3   1  ...   2   2   2   2   2   2   2   2   \n",
       "3   1   0   3   2  1   1   3   3   3   2  ...   2   2   2   2   2   2   2   1   \n",
       "4   1   0   3   3  2   0   3   3   3   1  ...   2   2   2   2   2   2   2   2   \n",
       "\n",
       "   55  56  \n",
       "0   2   2  \n",
       "1   1   2  \n",
       "2   2   2  \n",
       "3   2   2  \n",
       "4   1   2  \n",
       "\n",
       "[5 rows x 57 columns]"
      ]
     },
     "execution_count": 18,
     "metadata": {},
     "output_type": "execute_result"
    }
   ],
   "source": [
    "df.head()"
   ]
  },
  {
   "cell_type": "code",
   "execution_count": 19,
   "metadata": {},
   "outputs": [
    {
     "data": {
      "text/plain": [
       "(27, 56)"
      ]
     },
     "execution_count": 19,
     "metadata": {},
     "output_type": "execute_result"
    }
   ],
   "source": [
    "x=df.iloc[:,0:-1]\n",
    "x.shape"
   ]
  },
  {
   "cell_type": "code",
   "execution_count": 20,
   "metadata": {},
   "outputs": [],
   "source": [
    "pca=PCA(n_components=10)"
   ]
  },
  {
   "cell_type": "code",
   "execution_count": 21,
   "metadata": {},
   "outputs": [],
   "source": [
    "y=df.iloc[:,-1]"
   ]
  },
  {
   "cell_type": "code",
   "execution_count": 22,
   "metadata": {},
   "outputs": [],
   "source": [
    "x=pca.fit_transform(x)"
   ]
  },
  {
   "cell_type": "code",
   "execution_count": 23,
   "metadata": {},
   "outputs": [
    {
     "data": {
      "text/plain": [
       "(27, 10)"
      ]
     },
     "execution_count": 23,
     "metadata": {},
     "output_type": "execute_result"
    }
   ],
   "source": [
    "x.shape"
   ]
  },
  {
   "cell_type": "code",
   "execution_count": 24,
   "metadata": {},
   "outputs": [
    {
     "data": {
      "text/html": [
       "<div>\n",
       "<style scoped>\n",
       "    .dataframe tbody tr th:only-of-type {\n",
       "        vertical-align: middle;\n",
       "    }\n",
       "\n",
       "    .dataframe tbody tr th {\n",
       "        vertical-align: top;\n",
       "    }\n",
       "\n",
       "    .dataframe thead th {\n",
       "        text-align: right;\n",
       "    }\n",
       "</style>\n",
       "<table border=\"1\" class=\"dataframe\">\n",
       "  <thead>\n",
       "    <tr style=\"text-align: right;\">\n",
       "      <th></th>\n",
       "      <th>0</th>\n",
       "      <th>1</th>\n",
       "      <th>2</th>\n",
       "      <th>3</th>\n",
       "      <th>4</th>\n",
       "      <th>5</th>\n",
       "      <th>6</th>\n",
       "      <th>7</th>\n",
       "      <th>8</th>\n",
       "      <th>9</th>\n",
       "    </tr>\n",
       "  </thead>\n",
       "  <tbody>\n",
       "    <tr>\n",
       "      <td>0</td>\n",
       "      <td>-1.883445</td>\n",
       "      <td>2.403431</td>\n",
       "      <td>-0.384070</td>\n",
       "      <td>-0.228049</td>\n",
       "      <td>-1.523597</td>\n",
       "      <td>0.421166</td>\n",
       "      <td>0.443774</td>\n",
       "      <td>-0.369186</td>\n",
       "      <td>1.432910</td>\n",
       "      <td>0.190153</td>\n",
       "    </tr>\n",
       "    <tr>\n",
       "      <td>1</td>\n",
       "      <td>-2.076735</td>\n",
       "      <td>-0.932871</td>\n",
       "      <td>0.872015</td>\n",
       "      <td>-0.331748</td>\n",
       "      <td>0.605238</td>\n",
       "      <td>-1.811574</td>\n",
       "      <td>1.182699</td>\n",
       "      <td>-1.246362</td>\n",
       "      <td>0.139853</td>\n",
       "      <td>-0.337049</td>\n",
       "    </tr>\n",
       "    <tr>\n",
       "      <td>2</td>\n",
       "      <td>-1.551021</td>\n",
       "      <td>-1.254875</td>\n",
       "      <td>2.802320</td>\n",
       "      <td>0.145325</td>\n",
       "      <td>0.732093</td>\n",
       "      <td>-1.204880</td>\n",
       "      <td>0.868724</td>\n",
       "      <td>0.069738</td>\n",
       "      <td>-0.000421</td>\n",
       "      <td>0.141243</td>\n",
       "    </tr>\n",
       "    <tr>\n",
       "      <td>3</td>\n",
       "      <td>-1.527341</td>\n",
       "      <td>1.825430</td>\n",
       "      <td>1.387405</td>\n",
       "      <td>-1.226965</td>\n",
       "      <td>-0.546270</td>\n",
       "      <td>0.910637</td>\n",
       "      <td>-1.249130</td>\n",
       "      <td>0.385455</td>\n",
       "      <td>0.554858</td>\n",
       "      <td>-0.630211</td>\n",
       "    </tr>\n",
       "    <tr>\n",
       "      <td>4</td>\n",
       "      <td>-2.146194</td>\n",
       "      <td>-1.735422</td>\n",
       "      <td>2.223684</td>\n",
       "      <td>-0.053019</td>\n",
       "      <td>-0.422815</td>\n",
       "      <td>0.456339</td>\n",
       "      <td>0.033604</td>\n",
       "      <td>-0.781168</td>\n",
       "      <td>0.394988</td>\n",
       "      <td>-1.272595</td>\n",
       "    </tr>\n",
       "    <tr>\n",
       "      <td>5</td>\n",
       "      <td>-2.583289</td>\n",
       "      <td>-2.053403</td>\n",
       "      <td>1.084581</td>\n",
       "      <td>-0.385409</td>\n",
       "      <td>0.169303</td>\n",
       "      <td>0.827218</td>\n",
       "      <td>-1.144371</td>\n",
       "      <td>-1.267898</td>\n",
       "      <td>-0.432026</td>\n",
       "      <td>0.877098</td>\n",
       "    </tr>\n",
       "    <tr>\n",
       "      <td>6</td>\n",
       "      <td>-2.355211</td>\n",
       "      <td>0.086181</td>\n",
       "      <td>-1.969236</td>\n",
       "      <td>-1.782191</td>\n",
       "      <td>-1.478992</td>\n",
       "      <td>1.434170</td>\n",
       "      <td>0.670310</td>\n",
       "      <td>1.688048</td>\n",
       "      <td>-0.553011</td>\n",
       "      <td>-1.263378</td>\n",
       "    </tr>\n",
       "    <tr>\n",
       "      <td>7</td>\n",
       "      <td>-2.463184</td>\n",
       "      <td>-0.101352</td>\n",
       "      <td>-2.585364</td>\n",
       "      <td>-0.689756</td>\n",
       "      <td>0.069462</td>\n",
       "      <td>1.361543</td>\n",
       "      <td>0.144358</td>\n",
       "      <td>-0.759021</td>\n",
       "      <td>-0.588704</td>\n",
       "      <td>1.182257</td>\n",
       "    </tr>\n",
       "    <tr>\n",
       "      <td>8</td>\n",
       "      <td>0.583611</td>\n",
       "      <td>-2.089869</td>\n",
       "      <td>0.031874</td>\n",
       "      <td>2.254510</td>\n",
       "      <td>-1.367166</td>\n",
       "      <td>-0.959184</td>\n",
       "      <td>-0.698504</td>\n",
       "      <td>2.174382</td>\n",
       "      <td>0.273106</td>\n",
       "      <td>0.656588</td>\n",
       "    </tr>\n",
       "    <tr>\n",
       "      <td>9</td>\n",
       "      <td>0.349994</td>\n",
       "      <td>-1.208040</td>\n",
       "      <td>-0.261175</td>\n",
       "      <td>-1.543254</td>\n",
       "      <td>1.678272</td>\n",
       "      <td>-0.385627</td>\n",
       "      <td>-0.702237</td>\n",
       "      <td>1.036775</td>\n",
       "      <td>-2.036378</td>\n",
       "      <td>-0.778830</td>\n",
       "    </tr>\n",
       "    <tr>\n",
       "      <td>10</td>\n",
       "      <td>1.303719</td>\n",
       "      <td>0.035448</td>\n",
       "      <td>0.026245</td>\n",
       "      <td>-0.030463</td>\n",
       "      <td>1.253725</td>\n",
       "      <td>-1.216165</td>\n",
       "      <td>1.650132</td>\n",
       "      <td>0.865115</td>\n",
       "      <td>2.043054</td>\n",
       "      <td>0.027657</td>\n",
       "    </tr>\n",
       "    <tr>\n",
       "      <td>11</td>\n",
       "      <td>0.651157</td>\n",
       "      <td>2.579021</td>\n",
       "      <td>-1.020726</td>\n",
       "      <td>0.260958</td>\n",
       "      <td>1.431336</td>\n",
       "      <td>-0.712442</td>\n",
       "      <td>-0.524633</td>\n",
       "      <td>0.094249</td>\n",
       "      <td>-0.714048</td>\n",
       "      <td>0.291429</td>\n",
       "    </tr>\n",
       "    <tr>\n",
       "      <td>12</td>\n",
       "      <td>-0.492377</td>\n",
       "      <td>2.691097</td>\n",
       "      <td>0.879665</td>\n",
       "      <td>0.155562</td>\n",
       "      <td>0.284173</td>\n",
       "      <td>0.314633</td>\n",
       "      <td>-0.140488</td>\n",
       "      <td>0.576012</td>\n",
       "      <td>0.224120</td>\n",
       "      <td>0.602761</td>\n",
       "    </tr>\n",
       "    <tr>\n",
       "      <td>13</td>\n",
       "      <td>-0.788374</td>\n",
       "      <td>-0.320829</td>\n",
       "      <td>-0.988015</td>\n",
       "      <td>0.444317</td>\n",
       "      <td>0.857183</td>\n",
       "      <td>-0.549872</td>\n",
       "      <td>-0.966112</td>\n",
       "      <td>-1.277332</td>\n",
       "      <td>-0.006534</td>\n",
       "      <td>-0.774478</td>\n",
       "    </tr>\n",
       "    <tr>\n",
       "      <td>14</td>\n",
       "      <td>0.017465</td>\n",
       "      <td>-0.305350</td>\n",
       "      <td>-2.121307</td>\n",
       "      <td>0.365277</td>\n",
       "      <td>0.492702</td>\n",
       "      <td>0.438583</td>\n",
       "      <td>1.415111</td>\n",
       "      <td>-1.641467</td>\n",
       "      <td>1.346288</td>\n",
       "      <td>-0.658056</td>\n",
       "    </tr>\n",
       "    <tr>\n",
       "      <td>15</td>\n",
       "      <td>-0.991786</td>\n",
       "      <td>-0.389415</td>\n",
       "      <td>0.871726</td>\n",
       "      <td>1.959309</td>\n",
       "      <td>1.457489</td>\n",
       "      <td>1.947086</td>\n",
       "      <td>2.135245</td>\n",
       "      <td>0.963299</td>\n",
       "      <td>-1.498728</td>\n",
       "      <td>0.683509</td>\n",
       "    </tr>\n",
       "    <tr>\n",
       "      <td>16</td>\n",
       "      <td>-1.248439</td>\n",
       "      <td>2.572705</td>\n",
       "      <td>1.419743</td>\n",
       "      <td>-0.826119</td>\n",
       "      <td>-0.457144</td>\n",
       "      <td>-0.305395</td>\n",
       "      <td>-0.035602</td>\n",
       "      <td>1.488577</td>\n",
       "      <td>0.548580</td>\n",
       "      <td>0.441673</td>\n",
       "    </tr>\n",
       "    <tr>\n",
       "      <td>17</td>\n",
       "      <td>-2.127858</td>\n",
       "      <td>-1.982829</td>\n",
       "      <td>-1.844834</td>\n",
       "      <td>0.333406</td>\n",
       "      <td>-1.509369</td>\n",
       "      <td>-1.775431</td>\n",
       "      <td>-0.860507</td>\n",
       "      <td>0.160479</td>\n",
       "      <td>-0.142822</td>\n",
       "      <td>1.331400</td>\n",
       "    </tr>\n",
       "    <tr>\n",
       "      <td>18</td>\n",
       "      <td>4.060563</td>\n",
       "      <td>-0.455992</td>\n",
       "      <td>0.973935</td>\n",
       "      <td>-1.989166</td>\n",
       "      <td>-2.254521</td>\n",
       "      <td>0.284071</td>\n",
       "      <td>1.363539</td>\n",
       "      <td>-1.033387</td>\n",
       "      <td>-0.539636</td>\n",
       "      <td>1.422271</td>\n",
       "    </tr>\n",
       "    <tr>\n",
       "      <td>19</td>\n",
       "      <td>2.843796</td>\n",
       "      <td>-1.289046</td>\n",
       "      <td>-0.903765</td>\n",
       "      <td>-0.409214</td>\n",
       "      <td>0.578640</td>\n",
       "      <td>0.545852</td>\n",
       "      <td>-0.396222</td>\n",
       "      <td>0.381759</td>\n",
       "      <td>1.598857</td>\n",
       "      <td>0.132317</td>\n",
       "    </tr>\n",
       "    <tr>\n",
       "      <td>20</td>\n",
       "      <td>2.180686</td>\n",
       "      <td>-1.865349</td>\n",
       "      <td>0.320012</td>\n",
       "      <td>-0.391658</td>\n",
       "      <td>-1.237049</td>\n",
       "      <td>0.187929</td>\n",
       "      <td>-1.762818</td>\n",
       "      <td>0.466973</td>\n",
       "      <td>0.525972</td>\n",
       "      <td>-0.870549</td>\n",
       "    </tr>\n",
       "    <tr>\n",
       "      <td>21</td>\n",
       "      <td>0.969070</td>\n",
       "      <td>0.083534</td>\n",
       "      <td>-0.270444</td>\n",
       "      <td>3.940472</td>\n",
       "      <td>0.002144</td>\n",
       "      <td>1.794406</td>\n",
       "      <td>-0.351953</td>\n",
       "      <td>-0.119050</td>\n",
       "      <td>0.227189</td>\n",
       "      <td>-0.528130</td>\n",
       "    </tr>\n",
       "    <tr>\n",
       "      <td>22</td>\n",
       "      <td>2.353246</td>\n",
       "      <td>0.137992</td>\n",
       "      <td>-0.851219</td>\n",
       "      <td>0.001067</td>\n",
       "      <td>-1.340946</td>\n",
       "      <td>-1.372837</td>\n",
       "      <td>1.945496</td>\n",
       "      <td>0.194336</td>\n",
       "      <td>-1.490576</td>\n",
       "      <td>-1.200717</td>\n",
       "    </tr>\n",
       "    <tr>\n",
       "      <td>23</td>\n",
       "      <td>2.529134</td>\n",
       "      <td>1.873055</td>\n",
       "      <td>1.173409</td>\n",
       "      <td>1.260599</td>\n",
       "      <td>-1.821984</td>\n",
       "      <td>0.473976</td>\n",
       "      <td>-0.761203</td>\n",
       "      <td>-1.561529</td>\n",
       "      <td>-1.131425</td>\n",
       "      <td>-0.247369</td>\n",
       "    </tr>\n",
       "    <tr>\n",
       "      <td>24</td>\n",
       "      <td>3.221975</td>\n",
       "      <td>-1.041972</td>\n",
       "      <td>0.341054</td>\n",
       "      <td>-1.826967</td>\n",
       "      <td>2.424254</td>\n",
       "      <td>1.715426</td>\n",
       "      <td>-0.570068</td>\n",
       "      <td>0.087352</td>\n",
       "      <td>0.367318</td>\n",
       "      <td>0.449949</td>\n",
       "    </tr>\n",
       "    <tr>\n",
       "      <td>25</td>\n",
       "      <td>0.506976</td>\n",
       "      <td>0.398505</td>\n",
       "      <td>-0.923568</td>\n",
       "      <td>0.373965</td>\n",
       "      <td>0.634347</td>\n",
       "      <td>-0.975601</td>\n",
       "      <td>-0.589330</td>\n",
       "      <td>-0.047180</td>\n",
       "      <td>0.194653</td>\n",
       "      <td>0.110718</td>\n",
       "    </tr>\n",
       "    <tr>\n",
       "      <td>26</td>\n",
       "      <td>0.663862</td>\n",
       "      <td>2.340214</td>\n",
       "      <td>-0.283944</td>\n",
       "      <td>0.219210</td>\n",
       "      <td>1.289494</td>\n",
       "      <td>-1.844026</td>\n",
       "      <td>-1.099814</td>\n",
       "      <td>-0.528968</td>\n",
       "      <td>-0.737439</td>\n",
       "      <td>0.020339</td>\n",
       "    </tr>\n",
       "  </tbody>\n",
       "</table>\n",
       "</div>"
      ],
      "text/plain": [
       "           0         1         2         3         4         5         6  \\\n",
       "0  -1.883445  2.403431 -0.384070 -0.228049 -1.523597  0.421166  0.443774   \n",
       "1  -2.076735 -0.932871  0.872015 -0.331748  0.605238 -1.811574  1.182699   \n",
       "2  -1.551021 -1.254875  2.802320  0.145325  0.732093 -1.204880  0.868724   \n",
       "3  -1.527341  1.825430  1.387405 -1.226965 -0.546270  0.910637 -1.249130   \n",
       "4  -2.146194 -1.735422  2.223684 -0.053019 -0.422815  0.456339  0.033604   \n",
       "5  -2.583289 -2.053403  1.084581 -0.385409  0.169303  0.827218 -1.144371   \n",
       "6  -2.355211  0.086181 -1.969236 -1.782191 -1.478992  1.434170  0.670310   \n",
       "7  -2.463184 -0.101352 -2.585364 -0.689756  0.069462  1.361543  0.144358   \n",
       "8   0.583611 -2.089869  0.031874  2.254510 -1.367166 -0.959184 -0.698504   \n",
       "9   0.349994 -1.208040 -0.261175 -1.543254  1.678272 -0.385627 -0.702237   \n",
       "10  1.303719  0.035448  0.026245 -0.030463  1.253725 -1.216165  1.650132   \n",
       "11  0.651157  2.579021 -1.020726  0.260958  1.431336 -0.712442 -0.524633   \n",
       "12 -0.492377  2.691097  0.879665  0.155562  0.284173  0.314633 -0.140488   \n",
       "13 -0.788374 -0.320829 -0.988015  0.444317  0.857183 -0.549872 -0.966112   \n",
       "14  0.017465 -0.305350 -2.121307  0.365277  0.492702  0.438583  1.415111   \n",
       "15 -0.991786 -0.389415  0.871726  1.959309  1.457489  1.947086  2.135245   \n",
       "16 -1.248439  2.572705  1.419743 -0.826119 -0.457144 -0.305395 -0.035602   \n",
       "17 -2.127858 -1.982829 -1.844834  0.333406 -1.509369 -1.775431 -0.860507   \n",
       "18  4.060563 -0.455992  0.973935 -1.989166 -2.254521  0.284071  1.363539   \n",
       "19  2.843796 -1.289046 -0.903765 -0.409214  0.578640  0.545852 -0.396222   \n",
       "20  2.180686 -1.865349  0.320012 -0.391658 -1.237049  0.187929 -1.762818   \n",
       "21  0.969070  0.083534 -0.270444  3.940472  0.002144  1.794406 -0.351953   \n",
       "22  2.353246  0.137992 -0.851219  0.001067 -1.340946 -1.372837  1.945496   \n",
       "23  2.529134  1.873055  1.173409  1.260599 -1.821984  0.473976 -0.761203   \n",
       "24  3.221975 -1.041972  0.341054 -1.826967  2.424254  1.715426 -0.570068   \n",
       "25  0.506976  0.398505 -0.923568  0.373965  0.634347 -0.975601 -0.589330   \n",
       "26  0.663862  2.340214 -0.283944  0.219210  1.289494 -1.844026 -1.099814   \n",
       "\n",
       "           7         8         9  \n",
       "0  -0.369186  1.432910  0.190153  \n",
       "1  -1.246362  0.139853 -0.337049  \n",
       "2   0.069738 -0.000421  0.141243  \n",
       "3   0.385455  0.554858 -0.630211  \n",
       "4  -0.781168  0.394988 -1.272595  \n",
       "5  -1.267898 -0.432026  0.877098  \n",
       "6   1.688048 -0.553011 -1.263378  \n",
       "7  -0.759021 -0.588704  1.182257  \n",
       "8   2.174382  0.273106  0.656588  \n",
       "9   1.036775 -2.036378 -0.778830  \n",
       "10  0.865115  2.043054  0.027657  \n",
       "11  0.094249 -0.714048  0.291429  \n",
       "12  0.576012  0.224120  0.602761  \n",
       "13 -1.277332 -0.006534 -0.774478  \n",
       "14 -1.641467  1.346288 -0.658056  \n",
       "15  0.963299 -1.498728  0.683509  \n",
       "16  1.488577  0.548580  0.441673  \n",
       "17  0.160479 -0.142822  1.331400  \n",
       "18 -1.033387 -0.539636  1.422271  \n",
       "19  0.381759  1.598857  0.132317  \n",
       "20  0.466973  0.525972 -0.870549  \n",
       "21 -0.119050  0.227189 -0.528130  \n",
       "22  0.194336 -1.490576 -1.200717  \n",
       "23 -1.561529 -1.131425 -0.247369  \n",
       "24  0.087352  0.367318  0.449949  \n",
       "25 -0.047180  0.194653  0.110718  \n",
       "26 -0.528968 -0.737439  0.020339  "
      ]
     },
     "execution_count": 24,
     "metadata": {},
     "output_type": "execute_result"
    }
   ],
   "source": [
    "pd.DataFrame(x)"
   ]
  },
  {
   "cell_type": "code",
   "execution_count": 25,
   "metadata": {},
   "outputs": [
    {
     "data": {
      "text/plain": [
       "(27, 56)"
      ]
     },
     "execution_count": 25,
     "metadata": {},
     "output_type": "execute_result"
    }
   ],
   "source": [
    "x=df.iloc[:,0:-1]\n",
    "x.shape"
   ]
  },
  {
   "cell_type": "code",
   "execution_count": 26,
   "metadata": {},
   "outputs": [],
   "source": [
    "models=[KNeighborsClassifier(),DecisionTreeClassifier(),SVC(),MultinomialNB()]"
   ]
  },
  {
   "cell_type": "code",
   "execution_count": 27,
   "metadata": {},
   "outputs": [
    {
     "name": "stdout",
     "output_type": "stream",
     "text": [
      "Accuracy score correspond to random state 40 is: 0.7142857142857143\n",
      "Accuracy score correspond to random state 40 is: 0.7142857142857143\n",
      "Accuracy score correspond to random state 40 is: 0.5714285714285714\n",
      "Accuracy score correspond to random state 40 is: 0.8571428571428571\n",
      "Accuracy score correspond to random state 41 is: 0.7142857142857143\n",
      "Accuracy score correspond to random state 41 is: 0.8571428571428571\n",
      "Accuracy score correspond to random state 41 is: 0.5714285714285714\n",
      "Accuracy score correspond to random state 41 is: 0.8571428571428571\n",
      "Accuracy score correspond to random state 42 is: 0.5714285714285714\n",
      "Accuracy score correspond to random state 42 is: 0.5714285714285714\n",
      "Accuracy score correspond to random state 42 is: 0.7142857142857143\n",
      "Accuracy score correspond to random state 42 is: 0.7142857142857143\n",
      "Accuracy score correspond to random state 43 is: 0.8571428571428571\n",
      "Accuracy score correspond to random state 43 is: 0.7142857142857143\n",
      "Accuracy score correspond to random state 43 is: 0.7142857142857143\n",
      "Accuracy score correspond to random state 43 is: 0.7142857142857143\n",
      "Accuracy score correspond to random state 44 is: 0.7142857142857143\n",
      "Accuracy score correspond to random state 44 is: 0.7142857142857143\n",
      "Accuracy score correspond to random state 44 is: 0.7142857142857143\n",
      "Accuracy score correspond to random state 44 is: 0.7142857142857143\n",
      "Accuracy score correspond to random state 45 is: 0.5714285714285714\n",
      "Accuracy score correspond to random state 45 is: 0.7142857142857143\n",
      "Accuracy score correspond to random state 45 is: 0.42857142857142855\n",
      "Accuracy score correspond to random state 45 is: 0.7142857142857143\n",
      "Accuracy score correspond to random state 46 is: 1.0\n",
      "Accuracy score correspond to random state 46 is: 1.0\n",
      "Accuracy score correspond to random state 46 is: 0.8571428571428571\n",
      "Accuracy score correspond to random state 46 is: 1.0\n",
      "Accuracy score correspond to random state 47 is: 1.0\n",
      "Accuracy score correspond to random state 47 is: 0.8571428571428571\n",
      "Accuracy score correspond to random state 47 is: 0.8571428571428571\n",
      "Accuracy score correspond to random state 47 is: 1.0\n",
      "Accuracy score correspond to random state 48 is: 0.8571428571428571\n",
      "Accuracy score correspond to random state 48 is: 0.5714285714285714\n",
      "Accuracy score correspond to random state 48 is: 0.7142857142857143\n",
      "Accuracy score correspond to random state 48 is: 0.7142857142857143\n",
      "Accuracy score correspond to random state 49 is: 1.0\n",
      "Accuracy score correspond to random state 49 is: 1.0\n",
      "Accuracy score correspond to random state 49 is: 1.0\n",
      "Accuracy score correspond to random state 49 is: 1.0\n",
      "Accuracy score correspond to random state 50 is: 0.7142857142857143\n",
      "Accuracy score correspond to random state 50 is: 0.8571428571428571\n",
      "Accuracy score correspond to random state 50 is: 0.8571428571428571\n",
      "Accuracy score correspond to random state 50 is: 0.8571428571428571\n",
      "Accuracy score correspond to random state 51 is: 0.42857142857142855\n",
      "Accuracy score correspond to random state 51 is: 0.2857142857142857\n",
      "Accuracy score correspond to random state 51 is: 0.42857142857142855\n",
      "Accuracy score correspond to random state 51 is: 0.5714285714285714\n",
      "Accuracy score correspond to random state 52 is: 1.0\n",
      "Accuracy score correspond to random state 52 is: 1.0\n",
      "Accuracy score correspond to random state 52 is: 1.0\n",
      "Accuracy score correspond to random state 52 is: 1.0\n",
      "Accuracy score correspond to random state 53 is: 1.0\n",
      "Accuracy score correspond to random state 53 is: 0.2857142857142857\n",
      "Accuracy score correspond to random state 53 is: 1.0\n",
      "Accuracy score correspond to random state 53 is: 1.0\n",
      "Accuracy score correspond to random state 54 is: 0.7142857142857143\n",
      "Accuracy score correspond to random state 54 is: 0.42857142857142855\n",
      "Accuracy score correspond to random state 54 is: 0.5714285714285714\n",
      "Accuracy score correspond to random state 54 is: 0.5714285714285714\n",
      "\n",
      "\n",
      "\n",
      "Maximum accuracy score correspond to random state 46 is 1.0 and modle is KNeighborsClassifier(algorithm='auto', leaf_size=30, metric='minkowski',\n",
      "                     metric_params=None, n_jobs=None, n_neighbors=5, p=2,\n",
      "                     weights='uniform')\n"
     ]
    }
   ],
   "source": [
    "max_acc_score=0\n",
    "for r_state in range(40,55):\n",
    "    x_train,x_test,y_train,y_test=train_test_split(x,y,test_size=.24,random_state=r_state)\n",
    "    for m in models:\n",
    "        m.fit(x_train,y_train)\n",
    "        m.score(x_train,y_train)\n",
    "        predm=m.predict(x_test)\n",
    "        acc_values=accuracy_score(y_test,predm)\n",
    "        print('Accuracy score correspond to random state',r_state,'is:',acc_values)\n",
    "        if acc_values>max_acc_score:\n",
    "            max_acc_score=acc_values\n",
    "            final_state=r_state\n",
    "            final_model=m\n",
    "print()\n",
    "print()\n",
    "print()\n",
    "print('Maximum accuracy score correspond to random state',final_state,'is',max_acc_score,'and modle is',final_model)"
   ]
  },
  {
   "cell_type": "code",
   "execution_count": 28,
   "metadata": {},
   "outputs": [],
   "source": [
    "x_train,x_test,y_train,y_test=train_test_split(x,y,test_size=.24,random_state=46)"
   ]
  },
  {
   "cell_type": "code",
   "execution_count": 29,
   "metadata": {},
   "outputs": [
    {
     "name": "stdout",
     "output_type": "stream",
     "text": [
      "1.0\n",
      "[[1 0]\n",
      " [0 6]]\n",
      "              precision    recall  f1-score   support\n",
      "\n",
      "           1       1.00      1.00      1.00         1\n",
      "           2       1.00      1.00      1.00         6\n",
      "\n",
      "    accuracy                           1.00         7\n",
      "   macro avg       1.00      1.00      1.00         7\n",
      "weighted avg       1.00      1.00      1.00         7\n",
      "\n"
     ]
    }
   ],
   "source": [
    "knn=KNeighborsClassifier()\n",
    "knn.fit(x_train,y_train)\n",
    "knn.score(x_train,y_train)\n",
    "predknn=knn.predict(x_test)\n",
    "print(accuracy_score(y_test,predknn))\n",
    "print(confusion_matrix(y_test,predknn))\n",
    "print(classification_report(y_test,predknn))"
   ]
  },
  {
   "cell_type": "code",
   "execution_count": 30,
   "metadata": {},
   "outputs": [
    {
     "name": "stdout",
     "output_type": "stream",
     "text": [
      "[0.66666667 1.         0.83333333 1.         0.75      ]\n",
      "0.85\n",
      "0.13333333333333333\n"
     ]
    }
   ],
   "source": [
    "score=cross_val_score(knn,x,y,cv=5)\n",
    "print(score)\n",
    "print(score.mean())\n",
    "print(score.std())"
   ]
  },
  {
   "cell_type": "code",
   "execution_count": 31,
   "metadata": {},
   "outputs": [],
   "source": [
    "from sklearn.externals import joblib"
   ]
  },
  {
   "cell_type": "code",
   "execution_count": 33,
   "metadata": {},
   "outputs": [
    {
     "data": {
      "text/plain": [
       "['LungCancerFile.obj']"
      ]
     },
     "execution_count": 33,
     "metadata": {},
     "output_type": "execute_result"
    }
   ],
   "source": [
    "joblib.dump(knn,'LungCancerFile.obj')"
   ]
  },
  {
   "cell_type": "code",
   "execution_count": null,
   "metadata": {},
   "outputs": [],
   "source": []
  }
 ],
 "metadata": {
  "kernelspec": {
   "display_name": "Python 3",
   "language": "python",
   "name": "python3"
  },
  "language_info": {
   "codemirror_mode": {
    "name": "ipython",
    "version": 3
   },
   "file_extension": ".py",
   "mimetype": "text/x-python",
   "name": "python",
   "nbconvert_exporter": "python",
   "pygments_lexer": "ipython3",
   "version": "3.7.4"
  }
 },
 "nbformat": 4,
 "nbformat_minor": 2
}
